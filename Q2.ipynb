{
 "cells": [
  {
   "cell_type": "code",
   "execution_count": null,
   "id": "47d0c9d3-5c9e-4cff-a8f1-681edfa7b1a9",
   "metadata": {},
   "outputs": [],
   "source": [
    "import pandas as pd\n",
    "import matplotlib.pyplot as plt\n",
    "\n",
    "df2 = pd.read_csv('data/crypto.csv')\n",
    "\n",
    "df2.set_index(\"timestamp\", inplace=True)\n",
    "\n",
    "bit = df2[df2['Asset_Name'] == 'Bitcoin']\n",
    "eth = df2[df2['Asset_Name'] == 'Ethereum']\n",
    "\n",
    "plt.figure()\n",
    "plt.plot(bit[\"Close\"], )\n",
    "plt.plot(eth['Close'])\n",
    "\n",
    "plt.xlabel('timestamp')\n",
    "plt.ylabel('Close')\n",
    "\n",
    "\n"
   ]
  },
  {
   "cell_type": "code",
   "execution_count": null,
   "id": "5e88fc4a-b861-4155-b97e-f64d88e0c2e1",
   "metadata": {},
   "outputs": [],
   "source": []
  }
 ],
 "metadata": {
  "kernelspec": {
   "display_name": "Python 3 (ipykernel)",
   "language": "python",
   "name": "python3"
  },
  "language_info": {
   "codemirror_mode": {
    "name": "ipython",
    "version": 3
   },
   "file_extension": ".py",
   "mimetype": "text/x-python",
   "name": "python",
   "nbconvert_exporter": "python",
   "pygments_lexer": "ipython3",
   "version": "3.11.4"
  }
 },
 "nbformat": 4,
 "nbformat_minor": 5
}
